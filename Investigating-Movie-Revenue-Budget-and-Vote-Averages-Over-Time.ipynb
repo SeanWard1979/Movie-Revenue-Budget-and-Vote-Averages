{
 "cells": [
  {
   "cell_type": "markdown",
   "metadata": {},
   "source": [
    "# Project: Investigating Movie Revenue, Budget and Vote Averages Over Time \n",
    "\n",
    "## Table of Contents\n",
    "<ul>\n",
    "<li><a href=\"#intro\">Introduction</a></li>\n",
    "<li><a href=\"#wrangling\">Data Wrangling</a></li>\n",
    "<li><a href=\"#eda\">Exploratory Data Analysis</a></li>\n",
    "<li><a href=\"#conclusions\">Conclusions</a></li>\n",
    "</ul>"
   ]
  },
  {
   "cell_type": "markdown",
   "metadata": {},
   "source": [
    "<a id='intro'></a>\n",
    "# Introduction\n",
    "\n",
    "### The data set being used in this project is originally from the TMDb (The Movie Database) and contains information about over 10,000 movies.  It was cleaned from the original data on Kaggle.com.   It contains extensive information about each movie, and the vote count and vote average come from people that have visited the Movie Database.  \n",
    "\n",
    "### The first question: Does a higher budget always result in higher revenue and do certain years have higher budgets and/or higher revenues?\n",
    "\n",
    "### The second question: How is vote average effected by variables such as release year, budget/revenue, and runtime of the movies?"
   ]
  },
  {
   "cell_type": "code",
   "execution_count": 1,
   "metadata": {},
   "outputs": [],
   "source": [
    "# Importing packages\n",
    "\n",
    "import numpy as np\n",
    "import pandas as pd\n",
    "import matplotlib.pyplot as plt\n",
    "import seaborn as sns\n",
    "%matplotlib inline"
   ]
  },
  {
   "cell_type": "markdown",
   "metadata": {},
   "source": [
    "<a id='wrangling'></a>\n",
    "## Data Wrangling\n",
    "\n",
    "\n",
    "### General Properties"
   ]
  },
  {
   "cell_type": "code",
   "execution_count": 2,
   "metadata": {},
   "outputs": [
    {
     "data": {
      "text/html": [
       "<div>\n",
       "<style scoped>\n",
       "    .dataframe tbody tr th:only-of-type {\n",
       "        vertical-align: middle;\n",
       "    }\n",
       "\n",
       "    .dataframe tbody tr th {\n",
       "        vertical-align: top;\n",
       "    }\n",
       "\n",
       "    .dataframe thead th {\n",
       "        text-align: right;\n",
       "    }\n",
       "</style>\n",
       "<table border=\"1\" class=\"dataframe\">\n",
       "  <thead>\n",
       "    <tr style=\"text-align: right;\">\n",
       "      <th></th>\n",
       "      <th>id</th>\n",
       "      <th>imdb_id</th>\n",
       "      <th>popularity</th>\n",
       "      <th>budget</th>\n",
       "      <th>revenue</th>\n",
       "      <th>original_title</th>\n",
       "      <th>cast</th>\n",
       "      <th>homepage</th>\n",
       "      <th>director</th>\n",
       "      <th>tagline</th>\n",
       "      <th>...</th>\n",
       "      <th>overview</th>\n",
       "      <th>runtime</th>\n",
       "      <th>genres</th>\n",
       "      <th>production_companies</th>\n",
       "      <th>release_date</th>\n",
       "      <th>vote_count</th>\n",
       "      <th>vote_average</th>\n",
       "      <th>release_year</th>\n",
       "      <th>budget_adj</th>\n",
       "      <th>revenue_adj</th>\n",
       "    </tr>\n",
       "  </thead>\n",
       "  <tbody>\n",
       "    <tr>\n",
       "      <th>0</th>\n",
       "      <td>135397</td>\n",
       "      <td>tt0369610</td>\n",
       "      <td>32.985763</td>\n",
       "      <td>150000000</td>\n",
       "      <td>1513528810</td>\n",
       "      <td>Jurassic World</td>\n",
       "      <td>Chris Pratt|Bryce Dallas Howard|Irrfan Khan|Vi...</td>\n",
       "      <td>http://www.jurassicworld.com/</td>\n",
       "      <td>Colin Trevorrow</td>\n",
       "      <td>The park is open.</td>\n",
       "      <td>...</td>\n",
       "      <td>Twenty-two years after the events of Jurassic ...</td>\n",
       "      <td>124</td>\n",
       "      <td>Action|Adventure|Science Fiction|Thriller</td>\n",
       "      <td>Universal Studios|Amblin Entertainment|Legenda...</td>\n",
       "      <td>6/9/15</td>\n",
       "      <td>5562</td>\n",
       "      <td>6.5</td>\n",
       "      <td>2015</td>\n",
       "      <td>1.379999e+08</td>\n",
       "      <td>1.392446e+09</td>\n",
       "    </tr>\n",
       "    <tr>\n",
       "      <th>1</th>\n",
       "      <td>76341</td>\n",
       "      <td>tt1392190</td>\n",
       "      <td>28.419936</td>\n",
       "      <td>150000000</td>\n",
       "      <td>378436354</td>\n",
       "      <td>Mad Max: Fury Road</td>\n",
       "      <td>Tom Hardy|Charlize Theron|Hugh Keays-Byrne|Nic...</td>\n",
       "      <td>http://www.madmaxmovie.com/</td>\n",
       "      <td>George Miller</td>\n",
       "      <td>What a Lovely Day.</td>\n",
       "      <td>...</td>\n",
       "      <td>An apocalyptic story set in the furthest reach...</td>\n",
       "      <td>120</td>\n",
       "      <td>Action|Adventure|Science Fiction|Thriller</td>\n",
       "      <td>Village Roadshow Pictures|Kennedy Miller Produ...</td>\n",
       "      <td>5/13/15</td>\n",
       "      <td>6185</td>\n",
       "      <td>7.1</td>\n",
       "      <td>2015</td>\n",
       "      <td>1.379999e+08</td>\n",
       "      <td>3.481613e+08</td>\n",
       "    </tr>\n",
       "    <tr>\n",
       "      <th>2</th>\n",
       "      <td>262500</td>\n",
       "      <td>tt2908446</td>\n",
       "      <td>13.112507</td>\n",
       "      <td>110000000</td>\n",
       "      <td>295238201</td>\n",
       "      <td>Insurgent</td>\n",
       "      <td>Shailene Woodley|Theo James|Kate Winslet|Ansel...</td>\n",
       "      <td>http://www.thedivergentseries.movie/#insurgent</td>\n",
       "      <td>Robert Schwentke</td>\n",
       "      <td>One Choice Can Destroy You</td>\n",
       "      <td>...</td>\n",
       "      <td>Beatrice Prior must confront her inner demons ...</td>\n",
       "      <td>119</td>\n",
       "      <td>Adventure|Science Fiction|Thriller</td>\n",
       "      <td>Summit Entertainment|Mandeville Films|Red Wago...</td>\n",
       "      <td>3/18/15</td>\n",
       "      <td>2480</td>\n",
       "      <td>6.3</td>\n",
       "      <td>2015</td>\n",
       "      <td>1.012000e+08</td>\n",
       "      <td>2.716190e+08</td>\n",
       "    </tr>\n",
       "    <tr>\n",
       "      <th>3</th>\n",
       "      <td>140607</td>\n",
       "      <td>tt2488496</td>\n",
       "      <td>11.173104</td>\n",
       "      <td>200000000</td>\n",
       "      <td>2068178225</td>\n",
       "      <td>Star Wars: The Force Awakens</td>\n",
       "      <td>Harrison Ford|Mark Hamill|Carrie Fisher|Adam D...</td>\n",
       "      <td>http://www.starwars.com/films/star-wars-episod...</td>\n",
       "      <td>J.J. Abrams</td>\n",
       "      <td>Every generation has a story.</td>\n",
       "      <td>...</td>\n",
       "      <td>Thirty years after defeating the Galactic Empi...</td>\n",
       "      <td>136</td>\n",
       "      <td>Action|Adventure|Science Fiction|Fantasy</td>\n",
       "      <td>Lucasfilm|Truenorth Productions|Bad Robot</td>\n",
       "      <td>12/15/15</td>\n",
       "      <td>5292</td>\n",
       "      <td>7.5</td>\n",
       "      <td>2015</td>\n",
       "      <td>1.839999e+08</td>\n",
       "      <td>1.902723e+09</td>\n",
       "    </tr>\n",
       "    <tr>\n",
       "      <th>4</th>\n",
       "      <td>168259</td>\n",
       "      <td>tt2820852</td>\n",
       "      <td>9.335014</td>\n",
       "      <td>190000000</td>\n",
       "      <td>1506249360</td>\n",
       "      <td>Furious 7</td>\n",
       "      <td>Vin Diesel|Paul Walker|Jason Statham|Michelle ...</td>\n",
       "      <td>http://www.furious7.com/</td>\n",
       "      <td>James Wan</td>\n",
       "      <td>Vengeance Hits Home</td>\n",
       "      <td>...</td>\n",
       "      <td>Deckard Shaw seeks revenge against Dominic Tor...</td>\n",
       "      <td>137</td>\n",
       "      <td>Action|Crime|Thriller</td>\n",
       "      <td>Universal Pictures|Original Film|Media Rights ...</td>\n",
       "      <td>4/1/15</td>\n",
       "      <td>2947</td>\n",
       "      <td>7.3</td>\n",
       "      <td>2015</td>\n",
       "      <td>1.747999e+08</td>\n",
       "      <td>1.385749e+09</td>\n",
       "    </tr>\n",
       "  </tbody>\n",
       "</table>\n",
       "<p>5 rows × 21 columns</p>\n",
       "</div>"
      ],
      "text/plain": [
       "       id    imdb_id  popularity     budget     revenue  \\\n",
       "0  135397  tt0369610   32.985763  150000000  1513528810   \n",
       "1   76341  tt1392190   28.419936  150000000   378436354   \n",
       "2  262500  tt2908446   13.112507  110000000   295238201   \n",
       "3  140607  tt2488496   11.173104  200000000  2068178225   \n",
       "4  168259  tt2820852    9.335014  190000000  1506249360   \n",
       "\n",
       "                 original_title  \\\n",
       "0                Jurassic World   \n",
       "1            Mad Max: Fury Road   \n",
       "2                     Insurgent   \n",
       "3  Star Wars: The Force Awakens   \n",
       "4                     Furious 7   \n",
       "\n",
       "                                                cast  \\\n",
       "0  Chris Pratt|Bryce Dallas Howard|Irrfan Khan|Vi...   \n",
       "1  Tom Hardy|Charlize Theron|Hugh Keays-Byrne|Nic...   \n",
       "2  Shailene Woodley|Theo James|Kate Winslet|Ansel...   \n",
       "3  Harrison Ford|Mark Hamill|Carrie Fisher|Adam D...   \n",
       "4  Vin Diesel|Paul Walker|Jason Statham|Michelle ...   \n",
       "\n",
       "                                            homepage          director  \\\n",
       "0                      http://www.jurassicworld.com/   Colin Trevorrow   \n",
       "1                        http://www.madmaxmovie.com/     George Miller   \n",
       "2     http://www.thedivergentseries.movie/#insurgent  Robert Schwentke   \n",
       "3  http://www.starwars.com/films/star-wars-episod...       J.J. Abrams   \n",
       "4                           http://www.furious7.com/         James Wan   \n",
       "\n",
       "                         tagline  ...  \\\n",
       "0              The park is open.  ...   \n",
       "1             What a Lovely Day.  ...   \n",
       "2     One Choice Can Destroy You  ...   \n",
       "3  Every generation has a story.  ...   \n",
       "4            Vengeance Hits Home  ...   \n",
       "\n",
       "                                            overview runtime  \\\n",
       "0  Twenty-two years after the events of Jurassic ...     124   \n",
       "1  An apocalyptic story set in the furthest reach...     120   \n",
       "2  Beatrice Prior must confront her inner demons ...     119   \n",
       "3  Thirty years after defeating the Galactic Empi...     136   \n",
       "4  Deckard Shaw seeks revenge against Dominic Tor...     137   \n",
       "\n",
       "                                      genres  \\\n",
       "0  Action|Adventure|Science Fiction|Thriller   \n",
       "1  Action|Adventure|Science Fiction|Thriller   \n",
       "2         Adventure|Science Fiction|Thriller   \n",
       "3   Action|Adventure|Science Fiction|Fantasy   \n",
       "4                      Action|Crime|Thriller   \n",
       "\n",
       "                                production_companies release_date vote_count  \\\n",
       "0  Universal Studios|Amblin Entertainment|Legenda...       6/9/15       5562   \n",
       "1  Village Roadshow Pictures|Kennedy Miller Produ...      5/13/15       6185   \n",
       "2  Summit Entertainment|Mandeville Films|Red Wago...      3/18/15       2480   \n",
       "3          Lucasfilm|Truenorth Productions|Bad Robot     12/15/15       5292   \n",
       "4  Universal Pictures|Original Film|Media Rights ...       4/1/15       2947   \n",
       "\n",
       "   vote_average  release_year    budget_adj   revenue_adj  \n",
       "0           6.5          2015  1.379999e+08  1.392446e+09  \n",
       "1           7.1          2015  1.379999e+08  3.481613e+08  \n",
       "2           6.3          2015  1.012000e+08  2.716190e+08  \n",
       "3           7.5          2015  1.839999e+08  1.902723e+09  \n",
       "4           7.3          2015  1.747999e+08  1.385749e+09  \n",
       "\n",
       "[5 rows x 21 columns]"
      ]
     },
     "execution_count": 2,
     "metadata": {},
     "output_type": "execute_result"
    }
   ],
   "source": [
    "# Loading my data and printing out a few lines. Also looking at how many columns and non-null values there are.\n",
    "\n",
    "df = pd.read_csv('/Users/seanward/Desktop/Project 2 UDacity/tmdb-movies.csv')\n",
    "df.head()"
   ]
  },
  {
   "cell_type": "code",
   "execution_count": 3,
   "metadata": {},
   "outputs": [
    {
     "name": "stdout",
     "output_type": "stream",
     "text": [
      "<class 'pandas.core.frame.DataFrame'>\n",
      "RangeIndex: 10866 entries, 0 to 10865\n",
      "Data columns (total 21 columns):\n",
      " #   Column                Non-Null Count  Dtype  \n",
      "---  ------                --------------  -----  \n",
      " 0   id                    10866 non-null  int64  \n",
      " 1   imdb_id               10856 non-null  object \n",
      " 2   popularity            10866 non-null  float64\n",
      " 3   budget                10866 non-null  int64  \n",
      " 4   revenue               10866 non-null  int64  \n",
      " 5   original_title        10866 non-null  object \n",
      " 6   cast                  10790 non-null  object \n",
      " 7   homepage              2936 non-null   object \n",
      " 8   director              10822 non-null  object \n",
      " 9   tagline               8042 non-null   object \n",
      " 10  keywords              9373 non-null   object \n",
      " 11  overview              10862 non-null  object \n",
      " 12  runtime               10866 non-null  int64  \n",
      " 13  genres                10843 non-null  object \n",
      " 14  production_companies  9836 non-null   object \n",
      " 15  release_date          10866 non-null  object \n",
      " 16  vote_count            10866 non-null  int64  \n",
      " 17  vote_average          10866 non-null  float64\n",
      " 18  release_year          10866 non-null  int64  \n",
      " 19  budget_adj            10866 non-null  float64\n",
      " 20  revenue_adj           10866 non-null  float64\n",
      "dtypes: float64(4), int64(6), object(11)\n",
      "memory usage: 1.7+ MB\n"
     ]
    }
   ],
   "source": [
    "df.info()"
   ]
  },
  {
   "cell_type": "markdown",
   "metadata": {},
   "source": [
    "   ##       By the looks of this data, I will not be using every column for my project.  I can easily drop columns that have lots of null values (homepage, tagline, keywords, production_companies). I can also drop columns that I am certain have no value for my project (id, imdb_id, popularity, cast, director, and overview).  This will make it much easier for me to look at the data with only what is prevelant to me."
   ]
  },
  {
   "cell_type": "markdown",
   "metadata": {},
   "source": [
    "## Data Cleaning"
   ]
  },
  {
   "cell_type": "code",
   "execution_count": 4,
   "metadata": {},
   "outputs": [],
   "source": [
    "# Dropping columns that are not needed for my analysis.\n",
    "df_2 =  df.drop(['id', 'imdb_id', 'popularity', 'cast', 'homepage', 'director', 'tagline', 'keywords', 'overview', 'production_companies'], axis = 1)"
   ]
  },
  {
   "cell_type": "code",
   "execution_count": 5,
   "metadata": {},
   "outputs": [
    {
     "name": "stdout",
     "output_type": "stream",
     "text": [
      "<class 'pandas.core.frame.DataFrame'>\n",
      "RangeIndex: 10866 entries, 0 to 10865\n",
      "Data columns (total 11 columns):\n",
      " #   Column          Non-Null Count  Dtype  \n",
      "---  ------          --------------  -----  \n",
      " 0   budget          10866 non-null  int64  \n",
      " 1   revenue         10866 non-null  int64  \n",
      " 2   original_title  10866 non-null  object \n",
      " 3   runtime         10866 non-null  int64  \n",
      " 4   genres          10843 non-null  object \n",
      " 5   release_date    10866 non-null  object \n",
      " 6   vote_count      10866 non-null  int64  \n",
      " 7   vote_average    10866 non-null  float64\n",
      " 8   release_year    10866 non-null  int64  \n",
      " 9   budget_adj      10866 non-null  float64\n",
      " 10  revenue_adj     10866 non-null  float64\n",
      "dtypes: float64(3), int64(5), object(3)\n",
      "memory usage: 933.9+ KB\n"
     ]
    }
   ],
   "source": [
    "df_2.info()"
   ]
  },
  {
   "cell_type": "code",
   "execution_count": 6,
   "metadata": {},
   "outputs": [
    {
     "data": {
      "text/html": [
       "<div>\n",
       "<style scoped>\n",
       "    .dataframe tbody tr th:only-of-type {\n",
       "        vertical-align: middle;\n",
       "    }\n",
       "\n",
       "    .dataframe tbody tr th {\n",
       "        vertical-align: top;\n",
       "    }\n",
       "\n",
       "    .dataframe thead th {\n",
       "        text-align: right;\n",
       "    }\n",
       "</style>\n",
       "<table border=\"1\" class=\"dataframe\">\n",
       "  <thead>\n",
       "    <tr style=\"text-align: right;\">\n",
       "      <th></th>\n",
       "      <th>budget</th>\n",
       "      <th>revenue</th>\n",
       "      <th>title</th>\n",
       "      <th>runtime</th>\n",
       "      <th>genres</th>\n",
       "      <th>release_date</th>\n",
       "      <th>vote_count</th>\n",
       "      <th>vote_average</th>\n",
       "      <th>release_year</th>\n",
       "      <th>budget_adj</th>\n",
       "      <th>revenue_adj</th>\n",
       "    </tr>\n",
       "  </thead>\n",
       "  <tbody>\n",
       "    <tr>\n",
       "      <th>0</th>\n",
       "      <td>150000000</td>\n",
       "      <td>1513528810</td>\n",
       "      <td>Jurassic World</td>\n",
       "      <td>124</td>\n",
       "      <td>Action|Adventure|Science Fiction|Thriller</td>\n",
       "      <td>6/9/15</td>\n",
       "      <td>5562</td>\n",
       "      <td>6.5</td>\n",
       "      <td>2015</td>\n",
       "      <td>1.379999e+08</td>\n",
       "      <td>1.392446e+09</td>\n",
       "    </tr>\n",
       "  </tbody>\n",
       "</table>\n",
       "</div>"
      ],
      "text/plain": [
       "      budget     revenue           title  runtime  \\\n",
       "0  150000000  1513528810  Jurassic World      124   \n",
       "\n",
       "                                      genres release_date  vote_count  \\\n",
       "0  Action|Adventure|Science Fiction|Thriller       6/9/15        5562   \n",
       "\n",
       "   vote_average  release_year    budget_adj   revenue_adj  \n",
       "0           6.5          2015  1.379999e+08  1.392446e+09  "
      ]
     },
     "execution_count": 6,
     "metadata": {},
     "output_type": "execute_result"
    }
   ],
   "source": [
    "# Renaming \"original_title\" to just simply \"title\" \n",
    "df_2.rename(columns={'original_title': 'title'}, inplace=True)\n",
    "\n",
    "# Confirm the renaming\n",
    "df_2.head(1)"
   ]
  },
  {
   "cell_type": "code",
   "execution_count": 7,
   "metadata": {},
   "outputs": [
    {
     "data": {
      "text/plain": [
       "0.000000e+00    6016\n",
       "1.438914e+07       2\n",
       "5.766759e+07       2\n",
       "1.000000e+06       2\n",
       "2.093547e+08       2\n",
       "                ... \n",
       "7.036068e+07       1\n",
       "2.714497e+07       1\n",
       "7.694895e+07       1\n",
       "1.087002e+06       1\n",
       "1.062776e+09       1\n",
       "Name: revenue_adj, Length: 4840, dtype: int64"
      ]
     },
     "execution_count": 7,
     "metadata": {},
     "output_type": "execute_result"
    }
   ],
   "source": [
    "# Checking the value counts for revenue_adj and budget_adj for 0 values (movies\n",
    "# that do not have revenue/budgets information available).\n",
    "\n",
    "df_2.revenue_adj.value_counts()"
   ]
  },
  {
   "cell_type": "code",
   "execution_count": 8,
   "metadata": {},
   "outputs": [
    {
     "data": {
      "text/plain": [
       "0.000000e+00    5696\n",
       "1.016400e+07      17\n",
       "2.103337e+07      17\n",
       "2.000000e+07      16\n",
       "4.605455e+06      15\n",
       "                ... \n",
       "4.658819e+06       1\n",
       "6.641668e+07       1\n",
       "2.289547e+07       1\n",
       "2.206182e+06       1\n",
       "2.264205e+06       1\n",
       "Name: budget_adj, Length: 2614, dtype: int64"
      ]
     },
     "execution_count": 8,
     "metadata": {},
     "output_type": "execute_result"
    }
   ],
   "source": [
    "df_2.budget_adj.value_counts()"
   ]
  },
  {
   "cell_type": "code",
   "execution_count": 9,
   "metadata": {},
   "outputs": [],
   "source": [
    "# Over half the movies have zero values for revenue_adj and/or budget_adj!  \n",
    "# I must create a new dataframe that drops all of the rows that have budget_adj/revenue_adj values of zero.\n",
    "\n",
    "df_3 = df_2.loc[(df_2[['budget_adj', 'revenue_adj']] != 0).all(axis=1)]"
   ]
  },
  {
   "cell_type": "code",
   "execution_count": 10,
   "metadata": {},
   "outputs": [
    {
     "name": "stdout",
     "output_type": "stream",
     "text": [
      "<class 'pandas.core.frame.DataFrame'>\n",
      "Int64Index: 3855 entries, 0 to 10848\n",
      "Data columns (total 11 columns):\n",
      " #   Column        Non-Null Count  Dtype  \n",
      "---  ------        --------------  -----  \n",
      " 0   budget        3855 non-null   int64  \n",
      " 1   revenue       3855 non-null   int64  \n",
      " 2   title         3855 non-null   object \n",
      " 3   runtime       3855 non-null   int64  \n",
      " 4   genres        3855 non-null   object \n",
      " 5   release_date  3855 non-null   object \n",
      " 6   vote_count    3855 non-null   int64  \n",
      " 7   vote_average  3855 non-null   float64\n",
      " 8   release_year  3855 non-null   int64  \n",
      " 9   budget_adj    3855 non-null   float64\n",
      " 10  revenue_adj   3855 non-null   float64\n",
      "dtypes: float64(3), int64(5), object(3)\n",
      "memory usage: 361.4+ KB\n"
     ]
    }
   ],
   "source": [
    "# I have successfully created a dataframe with no null values.\n",
    "df_3.info()"
   ]
  },
  {
   "cell_type": "code",
   "execution_count": 11,
   "metadata": {},
   "outputs": [
    {
     "data": {
      "text/plain": [
       "2.103337e+07    14\n",
       "3.349690e+07    14\n",
       "2.000000e+07    13\n",
       "2.025573e+07    11\n",
       "2.629171e+07    11\n",
       "                ..\n",
       "2.386885e+07     1\n",
       "4.647239e+05     1\n",
       "1.473348e+07     1\n",
       "6.398027e+06     1\n",
       "3.000000e+00     1\n",
       "Name: budget_adj, Length: 2096, dtype: int64"
      ]
     },
     "execution_count": 11,
     "metadata": {},
     "output_type": "execute_result"
    }
   ],
   "source": [
    "# Double checking for zero values in budget_adj.  Success!\n",
    "\n",
    "df_3.budget_adj.value_counts()"
   ]
  },
  {
   "cell_type": "code",
   "execution_count": 12,
   "metadata": {},
   "outputs": [
    {
     "data": {
      "text/plain": [
       "budget          0\n",
       "revenue         0\n",
       "title           0\n",
       "runtime         0\n",
       "genres          0\n",
       "release_date    0\n",
       "vote_count      0\n",
       "vote_average    0\n",
       "release_year    0\n",
       "budget_adj      0\n",
       "revenue_adj     0\n",
       "dtype: int64"
      ]
     },
     "execution_count": 12,
     "metadata": {},
     "output_type": "execute_result"
    }
   ],
   "source": [
    "# Verifying that there are no more null values.\n",
    "\n",
    "df_3.isnull().sum()"
   ]
  },
  {
   "cell_type": "code",
   "execution_count": 13,
   "metadata": {},
   "outputs": [
    {
     "data": {
      "text/plain": [
       "1"
      ]
     },
     "execution_count": 13,
     "metadata": {},
     "output_type": "execute_result"
    }
   ],
   "source": [
    "# Checking for duplicates and then dropping the duplicates.\n",
    "\n",
    "sum(df_3.duplicated())"
   ]
  },
  {
   "cell_type": "code",
   "execution_count": 14,
   "metadata": {},
   "outputs": [
    {
     "data": {
      "text/html": [
       "<div>\n",
       "<style scoped>\n",
       "    .dataframe tbody tr th:only-of-type {\n",
       "        vertical-align: middle;\n",
       "    }\n",
       "\n",
       "    .dataframe tbody tr th {\n",
       "        vertical-align: top;\n",
       "    }\n",
       "\n",
       "    .dataframe thead th {\n",
       "        text-align: right;\n",
       "    }\n",
       "</style>\n",
       "<table border=\"1\" class=\"dataframe\">\n",
       "  <thead>\n",
       "    <tr style=\"text-align: right;\">\n",
       "      <th></th>\n",
       "      <th>budget</th>\n",
       "      <th>revenue</th>\n",
       "      <th>title</th>\n",
       "      <th>runtime</th>\n",
       "      <th>genres</th>\n",
       "      <th>release_date</th>\n",
       "      <th>vote_count</th>\n",
       "      <th>vote_average</th>\n",
       "      <th>release_year</th>\n",
       "      <th>budget_adj</th>\n",
       "      <th>revenue_adj</th>\n",
       "    </tr>\n",
       "  </thead>\n",
       "  <tbody>\n",
       "    <tr>\n",
       "      <th>0</th>\n",
       "      <td>150000000</td>\n",
       "      <td>1513528810</td>\n",
       "      <td>Jurassic World</td>\n",
       "      <td>124</td>\n",
       "      <td>Action|Adventure|Science Fiction|Thriller</td>\n",
       "      <td>6/9/15</td>\n",
       "      <td>5562</td>\n",
       "      <td>6.5</td>\n",
       "      <td>2015</td>\n",
       "      <td>1.379999e+08</td>\n",
       "      <td>1.392446e+09</td>\n",
       "    </tr>\n",
       "    <tr>\n",
       "      <th>1</th>\n",
       "      <td>150000000</td>\n",
       "      <td>378436354</td>\n",
       "      <td>Mad Max: Fury Road</td>\n",
       "      <td>120</td>\n",
       "      <td>Action|Adventure|Science Fiction|Thriller</td>\n",
       "      <td>5/13/15</td>\n",
       "      <td>6185</td>\n",
       "      <td>7.1</td>\n",
       "      <td>2015</td>\n",
       "      <td>1.379999e+08</td>\n",
       "      <td>3.481613e+08</td>\n",
       "    </tr>\n",
       "    <tr>\n",
       "      <th>2</th>\n",
       "      <td>110000000</td>\n",
       "      <td>295238201</td>\n",
       "      <td>Insurgent</td>\n",
       "      <td>119</td>\n",
       "      <td>Adventure|Science Fiction|Thriller</td>\n",
       "      <td>3/18/15</td>\n",
       "      <td>2480</td>\n",
       "      <td>6.3</td>\n",
       "      <td>2015</td>\n",
       "      <td>1.012000e+08</td>\n",
       "      <td>2.716190e+08</td>\n",
       "    </tr>\n",
       "    <tr>\n",
       "      <th>3</th>\n",
       "      <td>200000000</td>\n",
       "      <td>2068178225</td>\n",
       "      <td>Star Wars: The Force Awakens</td>\n",
       "      <td>136</td>\n",
       "      <td>Action|Adventure|Science Fiction|Fantasy</td>\n",
       "      <td>12/15/15</td>\n",
       "      <td>5292</td>\n",
       "      <td>7.5</td>\n",
       "      <td>2015</td>\n",
       "      <td>1.839999e+08</td>\n",
       "      <td>1.902723e+09</td>\n",
       "    </tr>\n",
       "    <tr>\n",
       "      <th>4</th>\n",
       "      <td>190000000</td>\n",
       "      <td>1506249360</td>\n",
       "      <td>Furious 7</td>\n",
       "      <td>137</td>\n",
       "      <td>Action|Crime|Thriller</td>\n",
       "      <td>4/1/15</td>\n",
       "      <td>2947</td>\n",
       "      <td>7.3</td>\n",
       "      <td>2015</td>\n",
       "      <td>1.747999e+08</td>\n",
       "      <td>1.385749e+09</td>\n",
       "    </tr>\n",
       "    <tr>\n",
       "      <th>...</th>\n",
       "      <td>...</td>\n",
       "      <td>...</td>\n",
       "      <td>...</td>\n",
       "      <td>...</td>\n",
       "      <td>...</td>\n",
       "      <td>...</td>\n",
       "      <td>...</td>\n",
       "      <td>...</td>\n",
       "      <td>...</td>\n",
       "      <td>...</td>\n",
       "      <td>...</td>\n",
       "    </tr>\n",
       "    <tr>\n",
       "      <th>10822</th>\n",
       "      <td>7500000</td>\n",
       "      <td>33736689</td>\n",
       "      <td>Who's Afraid of Virginia Woolf?</td>\n",
       "      <td>131</td>\n",
       "      <td>Drama</td>\n",
       "      <td>6/21/66</td>\n",
       "      <td>74</td>\n",
       "      <td>7.5</td>\n",
       "      <td>1966</td>\n",
       "      <td>5.038511e+07</td>\n",
       "      <td>2.266436e+08</td>\n",
       "    </tr>\n",
       "    <tr>\n",
       "      <th>10828</th>\n",
       "      <td>3000000</td>\n",
       "      <td>13000000</td>\n",
       "      <td>Torn Curtain</td>\n",
       "      <td>128</td>\n",
       "      <td>Mystery|Thriller</td>\n",
       "      <td>7/13/66</td>\n",
       "      <td>46</td>\n",
       "      <td>6.3</td>\n",
       "      <td>1966</td>\n",
       "      <td>2.015404e+07</td>\n",
       "      <td>8.733419e+07</td>\n",
       "    </tr>\n",
       "    <tr>\n",
       "      <th>10829</th>\n",
       "      <td>4653000</td>\n",
       "      <td>6000000</td>\n",
       "      <td>El Dorado</td>\n",
       "      <td>120</td>\n",
       "      <td>Action|Western</td>\n",
       "      <td>12/17/66</td>\n",
       "      <td>36</td>\n",
       "      <td>6.9</td>\n",
       "      <td>1966</td>\n",
       "      <td>3.125892e+07</td>\n",
       "      <td>4.030809e+07</td>\n",
       "    </tr>\n",
       "    <tr>\n",
       "      <th>10835</th>\n",
       "      <td>12000000</td>\n",
       "      <td>20000000</td>\n",
       "      <td>The Sand Pebbles</td>\n",
       "      <td>182</td>\n",
       "      <td>Action|Adventure|Drama|War|Romance</td>\n",
       "      <td>12/20/66</td>\n",
       "      <td>28</td>\n",
       "      <td>7.0</td>\n",
       "      <td>1966</td>\n",
       "      <td>8.061618e+07</td>\n",
       "      <td>1.343603e+08</td>\n",
       "    </tr>\n",
       "    <tr>\n",
       "      <th>10848</th>\n",
       "      <td>5115000</td>\n",
       "      <td>12000000</td>\n",
       "      <td>Fantastic Voyage</td>\n",
       "      <td>100</td>\n",
       "      <td>Adventure|Science Fiction</td>\n",
       "      <td>8/24/66</td>\n",
       "      <td>42</td>\n",
       "      <td>6.7</td>\n",
       "      <td>1966</td>\n",
       "      <td>3.436265e+07</td>\n",
       "      <td>8.061618e+07</td>\n",
       "    </tr>\n",
       "  </tbody>\n",
       "</table>\n",
       "<p>3854 rows × 11 columns</p>\n",
       "</div>"
      ],
      "text/plain": [
       "          budget     revenue                            title  runtime  \\\n",
       "0      150000000  1513528810                   Jurassic World      124   \n",
       "1      150000000   378436354               Mad Max: Fury Road      120   \n",
       "2      110000000   295238201                        Insurgent      119   \n",
       "3      200000000  2068178225     Star Wars: The Force Awakens      136   \n",
       "4      190000000  1506249360                        Furious 7      137   \n",
       "...          ...         ...                              ...      ...   \n",
       "10822    7500000    33736689  Who's Afraid of Virginia Woolf?      131   \n",
       "10828    3000000    13000000                     Torn Curtain      128   \n",
       "10829    4653000     6000000                        El Dorado      120   \n",
       "10835   12000000    20000000                 The Sand Pebbles      182   \n",
       "10848    5115000    12000000                 Fantastic Voyage      100   \n",
       "\n",
       "                                          genres release_date  vote_count  \\\n",
       "0      Action|Adventure|Science Fiction|Thriller       6/9/15        5562   \n",
       "1      Action|Adventure|Science Fiction|Thriller      5/13/15        6185   \n",
       "2             Adventure|Science Fiction|Thriller      3/18/15        2480   \n",
       "3       Action|Adventure|Science Fiction|Fantasy     12/15/15        5292   \n",
       "4                          Action|Crime|Thriller       4/1/15        2947   \n",
       "...                                          ...          ...         ...   \n",
       "10822                                      Drama      6/21/66          74   \n",
       "10828                           Mystery|Thriller      7/13/66          46   \n",
       "10829                             Action|Western     12/17/66          36   \n",
       "10835         Action|Adventure|Drama|War|Romance     12/20/66          28   \n",
       "10848                  Adventure|Science Fiction      8/24/66          42   \n",
       "\n",
       "       vote_average  release_year    budget_adj   revenue_adj  \n",
       "0               6.5          2015  1.379999e+08  1.392446e+09  \n",
       "1               7.1          2015  1.379999e+08  3.481613e+08  \n",
       "2               6.3          2015  1.012000e+08  2.716190e+08  \n",
       "3               7.5          2015  1.839999e+08  1.902723e+09  \n",
       "4               7.3          2015  1.747999e+08  1.385749e+09  \n",
       "...             ...           ...           ...           ...  \n",
       "10822           7.5          1966  5.038511e+07  2.266436e+08  \n",
       "10828           6.3          1966  2.015404e+07  8.733419e+07  \n",
       "10829           6.9          1966  3.125892e+07  4.030809e+07  \n",
       "10835           7.0          1966  8.061618e+07  1.343603e+08  \n",
       "10848           6.7          1966  3.436265e+07  8.061618e+07  \n",
       "\n",
       "[3854 rows x 11 columns]"
      ]
     },
     "execution_count": 14,
     "metadata": {},
     "output_type": "execute_result"
    }
   ],
   "source": [
    "df_3.drop_duplicates()"
   ]
  },
  {
   "cell_type": "markdown",
   "metadata": {},
   "source": [
    "\n",
    "\n"
   ]
  },
  {
   "cell_type": "markdown",
   "metadata": {},
   "source": [
    "<a id='eda'></a>\n",
    "## Exploratory Data Analysis"
   ]
  },
  {
   "cell_type": "markdown",
   "metadata": {},
   "source": [
    "### Research Question 1:  Does a higher budget always result in higher revenue and do certain years have higher budgets and/or higher revenues?"
   ]
  },
  {
   "cell_type": "code",
   "execution_count": 15,
   "metadata": {},
   "outputs": [
    {
     "data": {
      "text/html": [
       "<div>\n",
       "<style scoped>\n",
       "    .dataframe tbody tr th:only-of-type {\n",
       "        vertical-align: middle;\n",
       "    }\n",
       "\n",
       "    .dataframe tbody tr th {\n",
       "        vertical-align: top;\n",
       "    }\n",
       "\n",
       "    .dataframe thead th {\n",
       "        text-align: right;\n",
       "    }\n",
       "</style>\n",
       "<table border=\"1\" class=\"dataframe\">\n",
       "  <thead>\n",
       "    <tr style=\"text-align: right;\">\n",
       "      <th></th>\n",
       "      <th>budget</th>\n",
       "      <th>revenue</th>\n",
       "      <th>runtime</th>\n",
       "      <th>vote_count</th>\n",
       "      <th>vote_average</th>\n",
       "      <th>release_year</th>\n",
       "      <th>budget_adj</th>\n",
       "      <th>revenue_adj</th>\n",
       "    </tr>\n",
       "  </thead>\n",
       "  <tbody>\n",
       "    <tr>\n",
       "      <th>count</th>\n",
       "      <td>3.855000e+03</td>\n",
       "      <td>3.855000e+03</td>\n",
       "      <td>3855.000000</td>\n",
       "      <td>3855.000000</td>\n",
       "      <td>3855.00000</td>\n",
       "      <td>3855.000000</td>\n",
       "      <td>3.855000e+03</td>\n",
       "      <td>3.855000e+03</td>\n",
       "    </tr>\n",
       "    <tr>\n",
       "      <th>mean</th>\n",
       "      <td>3.720183e+07</td>\n",
       "      <td>1.076589e+08</td>\n",
       "      <td>109.215824</td>\n",
       "      <td>527.611933</td>\n",
       "      <td>6.16786</td>\n",
       "      <td>2001.263294</td>\n",
       "      <td>4.423630e+07</td>\n",
       "      <td>1.370294e+08</td>\n",
       "    </tr>\n",
       "    <tr>\n",
       "      <th>std</th>\n",
       "      <td>4.220291e+07</td>\n",
       "      <td>1.765248e+08</td>\n",
       "      <td>19.922166</td>\n",
       "      <td>879.868374</td>\n",
       "      <td>0.79504</td>\n",
       "      <td>11.281989</td>\n",
       "      <td>4.480403e+07</td>\n",
       "      <td>2.160944e+08</td>\n",
       "    </tr>\n",
       "    <tr>\n",
       "      <th>min</th>\n",
       "      <td>1.000000e+00</td>\n",
       "      <td>2.000000e+00</td>\n",
       "      <td>15.000000</td>\n",
       "      <td>10.000000</td>\n",
       "      <td>2.20000</td>\n",
       "      <td>1960.000000</td>\n",
       "      <td>9.693980e-01</td>\n",
       "      <td>2.370705e+00</td>\n",
       "    </tr>\n",
       "    <tr>\n",
       "      <th>25%</th>\n",
       "      <td>1.000000e+07</td>\n",
       "      <td>1.357645e+07</td>\n",
       "      <td>95.000000</td>\n",
       "      <td>71.000000</td>\n",
       "      <td>5.70000</td>\n",
       "      <td>1995.000000</td>\n",
       "      <td>1.309053e+07</td>\n",
       "      <td>1.834123e+07</td>\n",
       "    </tr>\n",
       "    <tr>\n",
       "      <th>50%</th>\n",
       "      <td>2.400000e+07</td>\n",
       "      <td>4.479322e+07</td>\n",
       "      <td>106.000000</td>\n",
       "      <td>204.000000</td>\n",
       "      <td>6.20000</td>\n",
       "      <td>2004.000000</td>\n",
       "      <td>3.001558e+07</td>\n",
       "      <td>6.171861e+07</td>\n",
       "    </tr>\n",
       "    <tr>\n",
       "      <th>75%</th>\n",
       "      <td>5.000000e+07</td>\n",
       "      <td>1.241530e+08</td>\n",
       "      <td>119.000000</td>\n",
       "      <td>580.000000</td>\n",
       "      <td>6.70000</td>\n",
       "      <td>2010.000000</td>\n",
       "      <td>6.061307e+07</td>\n",
       "      <td>1.632401e+08</td>\n",
       "    </tr>\n",
       "    <tr>\n",
       "      <th>max</th>\n",
       "      <td>4.250000e+08</td>\n",
       "      <td>2.781506e+09</td>\n",
       "      <td>338.000000</td>\n",
       "      <td>9767.000000</td>\n",
       "      <td>8.40000</td>\n",
       "      <td>2015.000000</td>\n",
       "      <td>4.250000e+08</td>\n",
       "      <td>2.827124e+09</td>\n",
       "    </tr>\n",
       "  </tbody>\n",
       "</table>\n",
       "</div>"
      ],
      "text/plain": [
       "             budget       revenue      runtime   vote_count  vote_average  \\\n",
       "count  3.855000e+03  3.855000e+03  3855.000000  3855.000000    3855.00000   \n",
       "mean   3.720183e+07  1.076589e+08   109.215824   527.611933       6.16786   \n",
       "std    4.220291e+07  1.765248e+08    19.922166   879.868374       0.79504   \n",
       "min    1.000000e+00  2.000000e+00    15.000000    10.000000       2.20000   \n",
       "25%    1.000000e+07  1.357645e+07    95.000000    71.000000       5.70000   \n",
       "50%    2.400000e+07  4.479322e+07   106.000000   204.000000       6.20000   \n",
       "75%    5.000000e+07  1.241530e+08   119.000000   580.000000       6.70000   \n",
       "max    4.250000e+08  2.781506e+09   338.000000  9767.000000       8.40000   \n",
       "\n",
       "       release_year    budget_adj   revenue_adj  \n",
       "count   3855.000000  3.855000e+03  3.855000e+03  \n",
       "mean    2001.263294  4.423630e+07  1.370294e+08  \n",
       "std       11.281989  4.480403e+07  2.160944e+08  \n",
       "min     1960.000000  9.693980e-01  2.370705e+00  \n",
       "25%     1995.000000  1.309053e+07  1.834123e+07  \n",
       "50%     2004.000000  3.001558e+07  6.171861e+07  \n",
       "75%     2010.000000  6.061307e+07  1.632401e+08  \n",
       "max     2015.000000  4.250000e+08  2.827124e+09  "
      ]
     },
     "execution_count": 15,
     "metadata": {},
     "output_type": "execute_result"
    }
   ],
   "source": [
    "# Looking at the descriptive statistics between variables to compare them all.\n",
    "# I find that comparing budget and revenue shows that there is not much of a difference between the two until\n",
    "# you look at the higher 50%.  For example, the lowest 25% has very similar budgets and revenues, while the highest\n",
    "# 25% (shown here as 75%) is showing much higher revenues. \n",
    "\n",
    "df_3.describe()"
   ]
  },
  {
   "cell_type": "code",
   "execution_count": 16,
   "metadata": {},
   "outputs": [],
   "source": [
    "df_rev = df_3.groupby('release_year')['revenue_adj'].mean()"
   ]
  },
  {
   "cell_type": "code",
   "execution_count": 17,
   "metadata": {},
   "outputs": [],
   "source": [
    "# Sorting years in descending order by average adjusted revenue \n",
    "df_rev = df_rev.sort_values(ascending=False)"
   ]
  },
  {
   "cell_type": "code",
   "execution_count": 18,
   "metadata": {},
   "outputs": [
    {
     "data": {
      "text/plain": [
       "release_year\n",
       "1965    6.340369e+08\n",
       "1973    4.563339e+08\n",
       "1975    3.805593e+08\n",
       "1967    3.679869e+08\n",
       "1977    3.563997e+08\n",
       "1969    3.413599e+08\n",
       "1964    3.300344e+08\n",
       "1972    3.134604e+08\n",
       "1970    2.808041e+08\n",
       "1961    2.463622e+08\n",
       "1974    2.449833e+08\n",
       "1978    2.303062e+08\n",
       "1979    2.217793e+08\n",
       "1962    2.124740e+08\n",
       "1963    2.094838e+08\n",
       "1976    1.915661e+08\n",
       "1960    1.902299e+08\n",
       "1982    1.873466e+08\n",
       "1989    1.576854e+08\n",
       "1997    1.571064e+08\n",
       "1971    1.558752e+08\n",
       "1968    1.547889e+08\n",
       "1994    1.547797e+08\n",
       "1980    1.521029e+08\n",
       "2015    1.506667e+08\n",
       "1992    1.491386e+08\n",
       "1990    1.464706e+08\n",
       "2012    1.453737e+08\n",
       "1995    1.453671e+08\n",
       "2003    1.445738e+08\n",
       "1983    1.405610e+08\n",
       "1991    1.397153e+08\n",
       "2002    1.375528e+08\n",
       "2001    1.348360e+08\n",
       "2014    1.343675e+08\n",
       "1998    1.341499e+08\n",
       "2000    1.308101e+08\n",
       "1993    1.294898e+08\n",
       "2004    1.294683e+08\n",
       "1981    1.288629e+08\n",
       "1999    1.280952e+08\n",
       "2013    1.266280e+08\n",
       "2009    1.262155e+08\n",
       "1996    1.247852e+08\n",
       "2010    1.218175e+08\n",
       "1984    1.202694e+08\n",
       "2007    1.188110e+08\n",
       "1987    1.150396e+08\n",
       "2008    1.149903e+08\n",
       "2011    1.140297e+08\n",
       "1966    1.138525e+08\n",
       "1985    1.118983e+08\n",
       "2005    1.102205e+08\n",
       "1988    1.011512e+08\n",
       "2006    1.001057e+08\n",
       "1986    9.509591e+07\n",
       "Name: revenue_adj, dtype: float64"
      ]
     },
     "execution_count": 18,
     "metadata": {},
     "output_type": "execute_result"
    }
   ],
   "source": [
    "# Looking at the average adjused revenue by year shows that most of the highest adjusted revenues are from\n",
    "# the 1960's and 1970's (the top 17 years).  The 21st century doesn't even show up until nearly the middle of the\n",
    "# list.  This is a far different list than the adjusted budget which will be shown next.\n",
    "df_rev"
   ]
  },
  {
   "cell_type": "code",
   "execution_count": 19,
   "metadata": {},
   "outputs": [],
   "source": [
    "df_bud = df_3.groupby('release_year')['budget_adj'].mean()"
   ]
  },
  {
   "cell_type": "code",
   "execution_count": 20,
   "metadata": {},
   "outputs": [
    {
     "data": {
      "text/plain": [
       "release_year\n",
       "1965    8.138583e+07\n",
       "1963    7.252496e+07\n",
       "1997    6.080297e+07\n",
       "2000    5.780982e+07\n",
       "1998    5.746289e+07\n",
       "1999    5.549679e+07\n",
       "2003    5.442667e+07\n",
       "2001    5.319091e+07\n",
       "2004    5.232857e+07\n",
       "2002    5.160072e+07\n",
       "1970    4.896551e+07\n",
       "1996    4.821614e+07\n",
       "1967    4.802007e+07\n",
       "2010    4.744770e+07\n",
       "2005    4.679254e+07\n",
       "1995    4.629300e+07\n",
       "2012    4.560943e+07\n",
       "2013    4.455479e+07\n",
       "2007    4.432667e+07\n",
       "2006    4.425382e+07\n",
       "2009    4.403133e+07\n",
       "1966    4.335538e+07\n",
       "1979    4.332191e+07\n",
       "2008    4.316507e+07\n",
       "1994    4.315594e+07\n",
       "1991    4.210874e+07\n",
       "2014    4.127475e+07\n",
       "2015    4.123195e+07\n",
       "2011    4.112172e+07\n",
       "1962    4.062476e+07\n",
       "1990    3.768030e+07\n",
       "1968    3.757895e+07\n",
       "1980    3.682018e+07\n",
       "1992    3.557618e+07\n",
       "1983    3.426817e+07\n",
       "1964    3.408189e+07\n",
       "1969    3.394782e+07\n",
       "1993    3.355815e+07\n",
       "1989    3.338586e+07\n",
       "1978    3.267392e+07\n",
       "1976    3.078131e+07\n",
       "1960    3.068179e+07\n",
       "1982    2.988812e+07\n",
       "1985    2.948170e+07\n",
       "1984    2.863928e+07\n",
       "1961    2.818516e+07\n",
       "1988    2.632559e+07\n",
       "1977    2.629221e+07\n",
       "1986    2.607366e+07\n",
       "1987    2.540404e+07\n",
       "1974    2.367112e+07\n",
       "1973    2.346184e+07\n",
       "1981    2.332241e+07\n",
       "1975    1.670251e+07\n",
       "1971    1.657066e+07\n",
       "1972    1.542484e+07\n",
       "Name: budget_adj, dtype: float64"
      ]
     },
     "execution_count": 20,
     "metadata": {},
     "output_type": "execute_result"
    }
   ],
   "source": [
    "# Sorting years in descending order by average adjusted budget.\n",
    "\n",
    "df_bud = df_bud.sort_values(ascending=False)\n",
    "df_bud"
   ]
  },
  {
   "cell_type": "markdown",
   "metadata": {},
   "source": [
    "## I am noticing that many of the highest adjusted revenue years are from the 60's and 70's while the 21st century doesn't even show up until about the 24th position.  In terms of the adjusted budget, 8 of the top 10 positions are from between 1997 and 2004.  \n",
    "## My theory for the 60's and 70's high adjusted revenue is that it is connected with the fact that tMDb is much more selective on which older movies it includes, so it tends to be the more successful ones.\n",
    "## My theory for the higher adjusted budgets for 1997-2004 is that it is possible with the rise of the internet and interest in high tech movies that much more money was being invested in movies in general.  By the looks of the scattering of these years all over the spectrum in terms of adjusted revenue, the raised budgets didn't always seem to pay off for revenues."
   ]
  },
  {
   "cell_type": "code",
   "execution_count": 21,
   "metadata": {},
   "outputs": [
    {
     "data": {
      "image/png": "[encoded data removed]",
      "text/plain": [
       "<Figure size 576x360 with 1 Axes>"
      ]
     },
     "metadata": {
      "needs_background": "light"
     },
     "output_type": "display_data"
    }
   ],
   "source": [
    "# Create a plot comparing Adjusted Budget with Adjusted Revenue.  There is no clear pattern because there are\n",
    "# plenty of movies with a high budget but low revenue, and many with a low budget but high revenue.\n",
    "\n",
    "plt.figure(figsize=(8,5))\n",
    "sns.scatterplot(data=df_3, x= \"budget_adj\", y= \"revenue_adj\")\n",
    "plt.title(\"Adjusted Budgets Compared to Adjusted Revenues\") \n",
    "plt.xlabel(\"Adjusted Budget\") \n",
    "plt.ylabel(\"Adjusted Revenue\")\n",
    "plt.show();"
   ]
  },
  {
   "cell_type": "markdown",
   "metadata": {},
   "source": [
    "## I decided to create a new column called \"actual revenue\" which subtracts the budget expense from revenue to show the actual money that these movies have made.  I thought it would be interesting to look at which years have a higher \"actual revenue\" and which have a lower one."
   ]
  },
  {
   "cell_type": "code",
   "execution_count": 22,
   "metadata": {},
   "outputs": [
    {
     "name": "stderr",
     "output_type": "stream",
     "text": [
      "<ipython-input-22-5710bd17ba15>:3: SettingWithCopyWarning: \n",
      "A value is trying to be set on a copy of a slice from a DataFrame.\n",
      "Try using .loc[row_indexer,col_indexer] = value instead\n",
      "\n",
      "See the caveats in the documentation: https://pandas.pydata.org/pandas-docs/stable/user_guide/indexing.html#returning-a-view-versus-a-copy\n",
      "  df_3['actual_revenue'] = df_3['revenue'] - df_3['budget']\n"
     ]
    }
   ],
   "source": [
    "# Creating a new column that subtracts the budget from the revenue to create \"actual revenue\"\n",
    "\n",
    "df_3['actual_revenue'] = df_3['revenue'] - df_3['budget']"
   ]
  },
  {
   "cell_type": "code",
   "execution_count": 23,
   "metadata": {},
   "outputs": [],
   "source": [
    "# Grouping the mean of actual revenue data by year.\n",
    "\n",
    "df_4 = df_3.groupby('release_year')['actual_revenue'].mean()"
   ]
  },
  {
   "cell_type": "code",
   "execution_count": 24,
   "metadata": {},
   "outputs": [],
   "source": [
    "# Sorting the actual revenue by year in descending order.\n",
    "\n",
    "df_4 = df_4.sort_values(ascending=False)"
   ]
  },
  {
   "cell_type": "code",
   "execution_count": 25,
   "metadata": {},
   "outputs": [
    {
     "data": {
      "text/plain": [
       "release_year\n",
       "2015    1.189509e+08\n",
       "2012    1.050433e+08\n",
       "2014    1.010679e+08\n",
       "1977    9.175308e+07\n",
       "1975    8.980081e+07\n",
       "1973    8.814051e+07\n",
       "2013    8.768191e+07\n",
       "2009    8.085808e+07\n",
       "1965    7.985637e+07\n",
       "2003    7.605087e+07\n",
       "1994    7.587717e+07\n",
       "2011    7.520952e+07\n",
       "2010    7.436977e+07\n",
       "1992    7.307634e+07\n",
       "2008    7.091840e+07\n",
       "2002    7.090228e+07\n",
       "1997    7.089157e+07\n",
       "2007    7.082487e+07\n",
       "1989    7.066551e+07\n",
       "1982    6.968294e+07\n",
       "1995    6.923578e+07\n",
       "2004    6.681977e+07\n",
       "2001    6.629789e+07\n",
       "1990    6.518689e+07\n",
       "1993    6.355317e+07\n",
       "1991    6.096243e+07\n",
       "1979    5.939563e+07\n",
       "1978    5.912353e+07\n",
       "2000    5.764882e+07\n",
       "1998    5.732767e+07\n",
       "1972    5.715449e+07\n",
       "2005    5.680646e+07\n",
       "1999    5.545870e+07\n",
       "1996    5.507705e+07\n",
       "1969    5.171575e+07\n",
       "2006    5.163491e+07\n",
       "1974    5.004477e+07\n",
       "1967    4.894882e+07\n",
       "1983    4.855077e+07\n",
       "1987    4.670754e+07\n",
       "1981    4.400838e+07\n",
       "1984    4.365329e+07\n",
       "1980    4.356807e+07\n",
       "1964    4.209691e+07\n",
       "1976    4.196177e+07\n",
       "1970    4.127909e+07\n",
       "1985    4.065607e+07\n",
       "1988    4.058029e+07\n",
       "1986    3.469489e+07\n",
       "1961    2.990832e+07\n",
       "1971    2.586805e+07\n",
       "1962    2.383998e+07\n",
       "1960    2.163961e+07\n",
       "1963    1.923531e+07\n",
       "1968    1.869686e+07\n",
       "1966    1.049374e+07\n",
       "Name: actual_revenue, dtype: float64"
      ]
     },
     "execution_count": 25,
     "metadata": {},
     "output_type": "execute_result"
    }
   ],
   "source": [
    "# Interesting to see that the seven highest \"actual revenue\" years by average are either in the 1970's or the 2010's.\n",
    "# Perhaps those are eras where the top movies made loads of money, so they began to put more money into the budgets.\n",
    "# I can see that the years directly after 1977 (the 4th biggest \"actual revenue by average\" year) are towards the\n",
    "# middle of the bunch, and then the 80's were down near the bottom of the list.  It's like the studios struck gold\n",
    "# but then ended up putting too much money into films as a reaction.\n",
    "\n",
    "df_4"
   ]
  },
  {
   "cell_type": "code",
   "execution_count": 26,
   "metadata": {},
   "outputs": [
    {
     "data": {
      "image/png": "[encoded data removed]",
      "text/plain": [
       "<Figure size 720x432 with 1 Axes>"
      ]
     },
     "metadata": {
      "needs_background": "light"
     },
     "output_type": "display_data"
    }
   ],
   "source": [
    "# Creating a scatterplot which shows actual revenue by release year.\n",
    "\n",
    "plt.figure(figsize=(10,6))\n",
    "sns.scatterplot(data=df_3, x= \"release_year\", y= \"actual_revenue\")\n",
    "plt.title(\"Actual Revenue Against Budget by Year\") \n",
    "plt.xlabel(\"Release Year\") \n",
    "plt.ylabel(\"Actual Revenue\")\n",
    "plt.show();"
   ]
  },
  {
   "cell_type": "markdown",
   "metadata": {},
   "source": [
    "## As time goes by, there seems to be many more movies making a higher actual revenue, and also more movies that lost money as well (the ones that are in the negative).   As revenues seemed to really climb in the 90's, studios were also willing to put lots more money into their movies.  They were much more risky in terms of attempts to make money.  "
   ]
  },
  {
   "cell_type": "markdown",
   "metadata": {},
   "source": [
    "## Research Question 2:  How is vote average effected by variables such as release year, budget/revenue, and runtime of the movies?"
   ]
  },
  {
   "cell_type": "code",
   "execution_count": 27,
   "metadata": {},
   "outputs": [
    {
     "data": {
      "text/html": [
       "<div>\n",
       "<style scoped>\n",
       "    .dataframe tbody tr th:only-of-type {\n",
       "        vertical-align: middle;\n",
       "    }\n",
       "\n",
       "    .dataframe tbody tr th {\n",
       "        vertical-align: top;\n",
       "    }\n",
       "\n",
       "    .dataframe thead th {\n",
       "        text-align: right;\n",
       "    }\n",
       "</style>\n",
       "<table border=\"1\" class=\"dataframe\">\n",
       "  <thead>\n",
       "    <tr style=\"text-align: right;\">\n",
       "      <th></th>\n",
       "      <th>budget</th>\n",
       "      <th>revenue</th>\n",
       "      <th>runtime</th>\n",
       "      <th>vote_count</th>\n",
       "      <th>vote_average</th>\n",
       "      <th>release_year</th>\n",
       "      <th>budget_adj</th>\n",
       "      <th>revenue_adj</th>\n",
       "      <th>actual_revenue</th>\n",
       "    </tr>\n",
       "  </thead>\n",
       "  <tbody>\n",
       "    <tr>\n",
       "      <th>count</th>\n",
       "      <td>3.855000e+03</td>\n",
       "      <td>3.855000e+03</td>\n",
       "      <td>3855.000000</td>\n",
       "      <td>3855.000000</td>\n",
       "      <td>3855.00000</td>\n",
       "      <td>3855.000000</td>\n",
       "      <td>3.855000e+03</td>\n",
       "      <td>3.855000e+03</td>\n",
       "      <td>3.855000e+03</td>\n",
       "    </tr>\n",
       "    <tr>\n",
       "      <th>mean</th>\n",
       "      <td>3.720183e+07</td>\n",
       "      <td>1.076589e+08</td>\n",
       "      <td>109.215824</td>\n",
       "      <td>527.611933</td>\n",
       "      <td>6.16786</td>\n",
       "      <td>2001.263294</td>\n",
       "      <td>4.423630e+07</td>\n",
       "      <td>1.370294e+08</td>\n",
       "      <td>7.045710e+07</td>\n",
       "    </tr>\n",
       "    <tr>\n",
       "      <th>std</th>\n",
       "      <td>4.220291e+07</td>\n",
       "      <td>1.765248e+08</td>\n",
       "      <td>19.922166</td>\n",
       "      <td>879.868374</td>\n",
       "      <td>0.79504</td>\n",
       "      <td>11.281989</td>\n",
       "      <td>4.480403e+07</td>\n",
       "      <td>2.160944e+08</td>\n",
       "      <td>1.506085e+08</td>\n",
       "    </tr>\n",
       "    <tr>\n",
       "      <th>min</th>\n",
       "      <td>1.000000e+00</td>\n",
       "      <td>2.000000e+00</td>\n",
       "      <td>15.000000</td>\n",
       "      <td>10.000000</td>\n",
       "      <td>2.20000</td>\n",
       "      <td>1960.000000</td>\n",
       "      <td>9.693980e-01</td>\n",
       "      <td>2.370705e+00</td>\n",
       "      <td>-4.139124e+08</td>\n",
       "    </tr>\n",
       "    <tr>\n",
       "      <th>25%</th>\n",
       "      <td>1.000000e+07</td>\n",
       "      <td>1.357645e+07</td>\n",
       "      <td>95.000000</td>\n",
       "      <td>71.000000</td>\n",
       "      <td>5.70000</td>\n",
       "      <td>1995.000000</td>\n",
       "      <td>1.309053e+07</td>\n",
       "      <td>1.834123e+07</td>\n",
       "      <td>-1.325776e+06</td>\n",
       "    </tr>\n",
       "    <tr>\n",
       "      <th>50%</th>\n",
       "      <td>2.400000e+07</td>\n",
       "      <td>4.479322e+07</td>\n",
       "      <td>106.000000</td>\n",
       "      <td>204.000000</td>\n",
       "      <td>6.20000</td>\n",
       "      <td>2004.000000</td>\n",
       "      <td>3.001558e+07</td>\n",
       "      <td>6.171861e+07</td>\n",
       "      <td>2.000718e+07</td>\n",
       "    </tr>\n",
       "    <tr>\n",
       "      <th>75%</th>\n",
       "      <td>5.000000e+07</td>\n",
       "      <td>1.241530e+08</td>\n",
       "      <td>119.000000</td>\n",
       "      <td>580.000000</td>\n",
       "      <td>6.70000</td>\n",
       "      <td>2010.000000</td>\n",
       "      <td>6.061307e+07</td>\n",
       "      <td>1.632401e+08</td>\n",
       "      <td>8.168326e+07</td>\n",
       "    </tr>\n",
       "    <tr>\n",
       "      <th>max</th>\n",
       "      <td>4.250000e+08</td>\n",
       "      <td>2.781506e+09</td>\n",
       "      <td>338.000000</td>\n",
       "      <td>9767.000000</td>\n",
       "      <td>8.40000</td>\n",
       "      <td>2015.000000</td>\n",
       "      <td>4.250000e+08</td>\n",
       "      <td>2.827124e+09</td>\n",
       "      <td>2.544506e+09</td>\n",
       "    </tr>\n",
       "  </tbody>\n",
       "</table>\n",
       "</div>"
      ],
      "text/plain": [
       "             budget       revenue      runtime   vote_count  vote_average  \\\n",
       "count  3.855000e+03  3.855000e+03  3855.000000  3855.000000    3855.00000   \n",
       "mean   3.720183e+07  1.076589e+08   109.215824   527.611933       6.16786   \n",
       "std    4.220291e+07  1.765248e+08    19.922166   879.868374       0.79504   \n",
       "min    1.000000e+00  2.000000e+00    15.000000    10.000000       2.20000   \n",
       "25%    1.000000e+07  1.357645e+07    95.000000    71.000000       5.70000   \n",
       "50%    2.400000e+07  4.479322e+07   106.000000   204.000000       6.20000   \n",
       "75%    5.000000e+07  1.241530e+08   119.000000   580.000000       6.70000   \n",
       "max    4.250000e+08  2.781506e+09   338.000000  9767.000000       8.40000   \n",
       "\n",
       "       release_year    budget_adj   revenue_adj  actual_revenue  \n",
       "count   3855.000000  3.855000e+03  3.855000e+03    3.855000e+03  \n",
       "mean    2001.263294  4.423630e+07  1.370294e+08    7.045710e+07  \n",
       "std       11.281989  4.480403e+07  2.160944e+08    1.506085e+08  \n",
       "min     1960.000000  9.693980e-01  2.370705e+00   -4.139124e+08  \n",
       "25%     1995.000000  1.309053e+07  1.834123e+07   -1.325776e+06  \n",
       "50%     2004.000000  3.001558e+07  6.171861e+07    2.000718e+07  \n",
       "75%     2010.000000  6.061307e+07  1.632401e+08    8.168326e+07  \n",
       "max     2015.000000  4.250000e+08  2.827124e+09    2.544506e+09  "
      ]
     },
     "execution_count": 27,
     "metadata": {},
     "output_type": "execute_result"
    }
   ],
   "source": [
    "# Looking at the descriptive statistics between variables again for this second research question.\n",
    "# I see that the mean vote average is about 6.17 which will be a good comparison point in terms of\n",
    "# what the mean vote average is for every year.  I also see that the mean release year is 2001 showing that\n",
    "# the database leans towards more modern films.  \n",
    "\n",
    "df_3.describe()"
   ]
  },
  {
   "cell_type": "code",
   "execution_count": 28,
   "metadata": {},
   "outputs": [
    {
     "data": {
      "text/plain": [
       "Text(0, 0.5, '# of Movies')"
      ]
     },
     "execution_count": 28,
     "metadata": {},
     "output_type": "execute_result"
    },
    {
     "data": {
      "image/png": "[encoded data removed]",
      "text/plain": [
       "<Figure size 432x288 with 1 Axes>"
      ]
     },
     "metadata": {
      "needs_background": "light"
     },
     "output_type": "display_data"
    }
   ],
   "source": [
    "# Showing how many more movies in the database are from the mid-90's and later.\n",
    "fig, ax = plt.subplots(1, 1)\n",
    "ax.hist(df_3.release_year)\n",
    "ax.set_title('# of Movies by Release Year')\n",
    "ax.set_xlabel('Release Year')\n",
    "ax.set_ylabel('# of Movies')"
   ]
  },
  {
   "cell_type": "markdown",
   "metadata": {},
   "source": [
    "## It is clear from this histogram that the vast majority of the movies in the tMDb are from  the mid-2000's and later.  There are very few from 1960-1995.  Comparing around fifty movies from 1960-1965 to over a thousand for 2010-2015.  This is probably because they are much more selective about movies put out before this database (pre-2008 or so), and have entries for just about every modern movie."
   ]
  },
  {
   "cell_type": "code",
   "execution_count": 29,
   "metadata": {},
   "outputs": [
    {
     "data": {
      "text/plain": [
       "Text(0, 0.5, '# of Movies')"
      ]
     },
     "execution_count": 29,
     "metadata": {},
     "output_type": "execute_result"
    },
    {
     "data": {
      "image/png": "[encoded data removed]",
      "text/plain": [
       "<Figure size 432x288 with 1 Axes>"
      ]
     },
     "metadata": {
      "needs_background": "light"
     },
     "output_type": "display_data"
    }
   ],
   "source": [
    "# Showing how many movies have certain vote averages.\n",
    "fig, ax = plt.subplots(1, 1)\n",
    "ax.hist(df_3.vote_average)\n",
    "ax.set_title('# of Movies by Vote Average')\n",
    "ax.set_xlabel('Vote Average')\n",
    "ax.set_ylabel('# of Movies')"
   ]
  },
  {
   "cell_type": "code",
   "execution_count": 30,
   "metadata": {},
   "outputs": [
    {
     "data": {
      "text/plain": [
       "release_year\n",
       "1973    6.703636\n",
       "1972    6.535000\n",
       "1971    6.420000\n",
       "1970    6.417073\n",
       "1974    6.395745\n",
       "1975    6.390909\n",
       "1968    6.379487\n",
       "1961    6.374194\n",
       "1962    6.343750\n",
       "1976    6.340426\n",
       "1963    6.329412\n",
       "1960    6.325000\n",
       "1979    6.308772\n",
       "1967    6.242500\n",
       "1982    6.241975\n",
       "1964    6.211905\n",
       "1965    6.194286\n",
       "1985    6.177064\n",
       "1981    6.165854\n",
       "1980    6.160256\n",
       "1977    6.147368\n",
       "1978    6.130769\n",
       "1987    6.128800\n",
       "1966    6.128261\n",
       "1992    6.081203\n",
       "1989    6.070073\n",
       "1995    6.056000\n",
       "1993    6.050000\n",
       "1999    6.032589\n",
       "1991    6.014286\n",
       "1986    6.004959\n",
       "1984    6.003810\n",
       "1990    5.993939\n",
       "2010    5.990816\n",
       "2004    5.988599\n",
       "1997    5.988542\n",
       "2002    5.973308\n",
       "1983    5.971250\n",
       "1998    5.970476\n",
       "1988    5.965517\n",
       "2007    5.964384\n",
       "1969    5.961290\n",
       "2011    5.958519\n",
       "1994    5.942391\n",
       "2006    5.941422\n",
       "2003    5.930961\n",
       "2008    5.930847\n",
       "2014    5.920714\n",
       "1996    5.900980\n",
       "2001    5.896281\n",
       "2015    5.885692\n",
       "2000    5.882379\n",
       "2013    5.880577\n",
       "2005    5.866484\n",
       "2009    5.856660\n",
       "2012    5.799830\n",
       "Name: vote_average, dtype: float64"
      ]
     },
     "execution_count": 30,
     "metadata": {},
     "output_type": "execute_result"
    }
   ],
   "source": [
    "# Grouping the vote average mean by release year and sorting it in descending order.\n",
    "# 1970-1975 really seems to be a critically golden era for cinema.  In terms of years that are above the mean of\n",
    "# all vote averages there are no years more recent than 1985 (6.17 or higher vote average).  \n",
    "\n",
    "df_vote = df.groupby('release_year')['vote_average'].mean()\n",
    "\n",
    "df_vote = df_vote.sort_values(ascending=False)\n",
    "df_vote"
   ]
  },
  {
   "cell_type": "code",
   "execution_count": 31,
   "metadata": {},
   "outputs": [],
   "source": [
    "# Looking at actual revenue in terms of by vote average, it does seem to be a trend that the higher the vote \n",
    "# average, the higher the actual revenue.  There are a few variations to this, but looking at these figures\n",
    "# seems to verify a correlation.\n",
    "df_voteavg = df_3.groupby('vote_average')['actual_revenue'].mean()"
   ]
  },
  {
   "cell_type": "code",
   "execution_count": 32,
   "metadata": {},
   "outputs": [
    {
     "data": {
      "text/plain": [
       "vote_average\n",
       "8.1    3.362431e+08\n",
       "7.9    2.890923e+08\n",
       "8.3    2.390664e+08\n",
       "8.0    1.923533e+08\n",
       "7.8    1.901513e+08\n",
       "7.5    1.901165e+08\n",
       "7.4    1.875883e+08\n",
       "7.7    1.874818e+08\n",
       "7.6    1.507334e+08\n",
       "7.3    1.491223e+08\n",
       "7.1    1.164866e+08\n",
       "7.2    1.104292e+08\n",
       "7.0    1.030018e+08\n",
       "6.9    9.298901e+07\n",
       "6.4    8.835853e+07\n",
       "6.6    8.255311e+07\n",
       "6.5    8.227606e+07\n",
       "6.8    8.161998e+07\n",
       "6.1    7.432075e+07\n",
       "6.3    6.668123e+07\n",
       "6.2    5.860772e+07\n",
       "5.6    5.774294e+07\n",
       "5.8    5.674607e+07\n",
       "6.0    5.658720e+07\n",
       "6.7    5.483138e+07\n",
       "5.9    4.953186e+07\n",
       "5.5    4.734879e+07\n",
       "5.7    4.099069e+07\n",
       "3.4    3.684187e+07\n",
       "5.3    2.882613e+07\n",
       "5.4    2.339650e+07\n",
       "5.1    2.276722e+07\n",
       "5.2    1.944547e+07\n",
       "5.0    1.732002e+07\n",
       "3.6    1.668139e+07\n",
       "4.2    1.595562e+07\n",
       "4.7    1.581402e+07\n",
       "8.2    1.069309e+07\n",
       "4.4    8.445347e+06\n",
       "3.9    7.586951e+06\n",
       "4.6    7.452268e+06\n",
       "3.7    7.022091e+06\n",
       "4.3    5.234695e+06\n",
       "4.9    4.816227e+06\n",
       "4.5    4.032079e+06\n",
       "4.8    3.832716e+06\n",
       "8.4    3.560196e+06\n",
       "4.1   -3.492320e+06\n",
       "3.8   -6.029859e+06\n",
       "3.5   -7.307935e+06\n",
       "3.3   -1.252685e+07\n",
       "4.0   -1.477917e+07\n",
       "2.2   -6.492629e+07\n",
       "Name: actual_revenue, dtype: float64"
      ]
     },
     "execution_count": 32,
     "metadata": {},
     "output_type": "execute_result"
    }
   ],
   "source": [
    "df_voteavg = df_voteavg.sort_values(ascending=False)\n",
    "df_voteavg"
   ]
  },
  {
   "cell_type": "code",
   "execution_count": 33,
   "metadata": {
    "scrolled": false
   },
   "outputs": [
    {
     "data": {
      "image/png": "[encoded data removed]",
      "text/plain": [
       "<Figure size 432x288 with 1 Axes>"
      ]
     },
     "metadata": {
      "needs_background": "light"
     },
     "output_type": "display_data"
    },
    {
     "data": {
      "image/png": "[encoded data removed]",
      "text/plain": [
       "<Figure size 432x288 with 1 Axes>"
      ]
     },
     "metadata": {
      "needs_background": "light"
     },
     "output_type": "display_data"
    }
   ],
   "source": [
    "df_3.plot(x = 'vote_average', y = 'revenue_adj', kind= 'scatter');\n",
    "df_3.plot(x= 'vote_average', y = 'budget_adj', kind= 'scatter');"
   ]
  },
  {
   "cell_type": "code",
   "execution_count": 34,
   "metadata": {},
   "outputs": [],
   "source": [
    "df_voterun = df_3.groupby('vote_average')['runtime'].mean()"
   ]
  },
  {
   "cell_type": "code",
   "execution_count": 35,
   "metadata": {},
   "outputs": [
    {
     "data": {
      "text/plain": [
       "vote_average\n",
       "8.3    175.000000\n",
       "8.1    163.666667\n",
       "7.8    138.434783\n",
       "7.9    130.352941\n",
       "8.0    129.750000\n",
       "7.7    124.000000\n",
       "7.2    121.195652\n",
       "7.3    120.433333\n",
       "7.5    119.830189\n",
       "7.4    119.306122\n",
       "7.6    118.666667\n",
       "7.1    118.537037\n",
       "6.9    117.348148\n",
       "8.4    115.000000\n",
       "6.7    114.666667\n",
       "7.0    114.414414\n",
       "6.6    112.502732\n",
       "6.8    112.148148\n",
       "6.5    110.990431\n",
       "6.4    110.887006\n",
       "6.3    109.050279\n",
       "6.1    108.635897\n",
       "6.2    107.618812\n",
       "6.0    107.515789\n",
       "5.6    106.907143\n",
       "5.8    105.414773\n",
       "5.9    105.355932\n",
       "8.2    105.000000\n",
       "5.7    104.815068\n",
       "5.5    104.024390\n",
       "3.8    103.571429\n",
       "5.3    100.948276\n",
       "5.1    100.743243\n",
       "4.6    100.615385\n",
       "3.7    100.000000\n",
       "4.9     99.826087\n",
       "5.2     99.619565\n",
       "5.4     99.513761\n",
       "4.7     99.300000\n",
       "3.3     99.000000\n",
       "4.4     98.750000\n",
       "4.8     97.880000\n",
       "5.0     97.020833\n",
       "3.5     97.000000\n",
       "4.1     96.500000\n",
       "4.3     95.636364\n",
       "3.6     94.500000\n",
       "4.0     94.285714\n",
       "3.9     93.250000\n",
       "4.5     91.840000\n",
       "4.2     90.800000\n",
       "3.4     88.000000\n",
       "2.2     87.000000\n",
       "Name: runtime, dtype: float64"
      ]
     },
     "execution_count": 35,
     "metadata": {},
     "output_type": "execute_result"
    }
   ],
   "source": [
    "# It's pretty clear that there is a correlation between longer runtimes for movies and higher vote average.\n",
    "\n",
    "df_voterun = df_voterun.sort_values(ascending=False)\n",
    "df_voterun"
   ]
  },
  {
   "cell_type": "markdown",
   "metadata": {},
   "source": [
    "<a id='conclusions'></a>\n",
    "## Conclusions\n",
    "\n",
    "> **Research Question 1:** Does a higher budget always result in higher revenue and do certain years have higher budgets and/or higher revenues?\n",
    "    First off, I wanted to make sure I could compare budget and revenue in a way that takes into account the effect of inflation.  I thought comparing budget adjusted and revenue adjusted would be a good place to start.  After dropping all of the rows that had null values, the amount of rows went from 10,865 to 3,855 which just shows how many null values would have skewed the data.\n",
    "    I wanted to look at all of the descriptive statistics, and focus the most on the mean, budget, revenue, budget_adj and revenue_adj numbers.  I found that the lowest 25% in terms of budgets and revenues are very similar to each other but that they highest 25% (shown as 75%) is showing much higher revenues than budgets. \n",
    "    I decided to group the adjusted revenues and adjusted budgets by the mean of each year.  I sorted them in descending order and found that the top 17 years for adjusted revenue was all in the 1960's and 1970's. My theory for this ties in with the fact that this database is much more selective about movies in the database from the 1960s and the 1970's.  I show more proof of this later on in this conclusion.\n",
    "    Adjusted budgets have 8 of the top 10 positions between 1997 and 2004.  My theory behind this is that movies were starting to make much more money in the mid-1990's, so the studios poured much more money into the budgets to try to capitalize on the success (as we will see when we get to my created column \"actual revenue\" later in this summary).  Comparing adjusted budgets and adjusted revenues showed that there awas not a direct correlation between the two as seen on the scatterplot on In[21].  There are plenty of movies with a high adjusted budget and low adjusted revenue.  There are also plenty of movies with a high adjusted revenue and a low adjusted budget.  \n",
    "    I decided to create a new column called \"actual_revenue\" which subtracted budget from revenue to show the actual sum that a movie made after subtracting the costs.  I grouped the actual revenue mean by release year and found that the seven highest actual revenue years were either in the 1970's and 2010's.  In the years directly after the highest actual revenue years, there seemed to be a big dip in actual revenues.  (as seen in Out[25]).  Looking at the scatterplot on In[26], there was a jump in actual revenue in the mid-1990's but that also started an era where there were many more movies with a negative actual revenue (meaning that the budget was higher than the revenue).  Studios seemed to be taking more risks with pouring money into the budget of movies.\n",
    "\n",
    "> **Research Question 2:** How much of an effect does release year, budget/revenue and runtime of movies have on the vote average?\n",
    "    I started with looking at the descriptive statistics again since I was comparing a number of different variables with a single variable (vote average).  I paid lots of attention to the mean/min/max vote average (6.16 mean with a range between 2.2 to 8.4), the mean release year (2001, showing a skew towards modern films), and the mean/min/max for actual revenue (showing a big range of numbers negative to positive).  \n",
    "    On the bar chart for Out[28], I show just how big of a difference there is in how many movies in the database are from before 1990 and after 1990.  For example, there are 50 movies between 1960-1965 and over 1,000 for 2010-2015.  The next bar chart for Out[29] shows how many movies for each vote average.  The vast majority falls in between 5.0 and 7.0.  With the database being much more selective about older movies, it would make me think that the vote averages would be higher for them than for modern films. With Out[30], I organized the mean of the vote average for each year in descending order and found that the top 6 release years were all in a row from 1970-1975. A critically golden age for film. The top 14 years did not feature any year after 1979.\n",
    "    What effect does budget and revenue have on the vote average?  I predicted that there would be a correlation, but not a completely clean one.  Sometimes the highest grossing films are not critically acclaimed, and sometimes there are cult movies that are acclaimed but didn't make much money.  Looking at Out[32], all of the top actual revenue movies were 7.0 and higher for vote average.  There are outliers like the 3.4 vote average which actually grossed more than the 8.2 vote average, but overall there is a correlation.\n",
    "    Comparing vote average in terms of adjusted revenue vs. adjusted budget, there is a marked difference.  Looking at Out[33] and the two scatterplots comparing the two, there is definitely a positive trend line for vote average as aligned with revenue_adj.  For budget_adj it is much less clear.  I think it shows that movies that have a high revenue usually are critically acclaimed, but it is not as clear cut when a movie has a high budget.  \n",
    "    My final analysis was the effect that runtime of movies has on vote average.  As I would have guessed, longer movies tend to be more critically acclaimed.  Lower rated movies tend to have shorter runtimes.  \n",
    "    \n",
    "> **Data Limitations:**\n",
    "    In terms of limitations, I was disappointed that so many movies did not have revenue/revenue_adj/ budget/ budget_adj.  It makes it harder to paint a fuller picture with the data.  The data is also lacking in terms of the imbalance between older movies and newer movies.  There are also no votes from before this database was created.  So the data is not showing what ratings the audience gave movies from 1970 when they first came out, for example.  I would have liked to include genres as part of this analysis, but so many movies had way too many genres listed to really compare them.  I wish that maybe one (at the most, two) genres were chosen for each movie that way it would simplify it.  \n",
    "    \n",
    "> **List of Web Sites Used for Project:**\n",
    "https://www.codegrepper.com\n",
    "https://towardsdatascience.com/finding-and-removing-duplicate-rows-in-pandas-dataframe-c6117668631f\n",
    "https://stackoverflow.com\n",
    "https://www.geeksforgeeks.org/adding-labels-to-histogram-bars-in-matplotlib/\n",
    "https://ipython.readthedocs.io/en/stable/interactive/magics.html\n",
    "https://www.datasciencemadesimple.com/string-split-in-column-of-dataframe-in-pandas-python-2/\n",
    "https://realpython.com/lessons/slicing-and-dicing-pandas-dataframe/\n",
    "https://realpython.com/python-data-cleaning-numpy-pandas/"
   ]
  },
  {
   "cell_type": "code",
   "execution_count": null,
   "metadata": {},
   "outputs": [],
   "source": []
  }
 ],
 "metadata": {
  "kernelspec": {
   "display_name": "Python 3",
   "language": "python",
   "name": "python3"
  },
  "language_info": {
   "codemirror_mode": {
    "name": "ipython",
    "version": 3
   },
   "file_extension": ".py",
   "mimetype": "text/x-python",
   "name": "python",
   "nbconvert_exporter": "python",
   "pygments_lexer": "ipython3",
   "version": "3.8.3"
  }
 },
 "nbformat": 4,
 "nbformat_minor": 2
}
